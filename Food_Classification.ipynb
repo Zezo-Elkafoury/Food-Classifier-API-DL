{
  "nbformat": 4,
  "nbformat_minor": 0,
  "metadata": {
    "colab": {
      "provenance": [],
      "gpuType": "T4",
      "authorship_tag": "ABX9TyPhtmzF8wpOYpAXSgvgxaHs",
      "include_colab_link": true
    },
    "kernelspec": {
      "name": "python3",
      "display_name": "Python 3"
    },
    "language_info": {
      "name": "python"
    },
    "accelerator": "GPU"
  },
  "cells": [
    {
      "cell_type": "markdown",
      "metadata": {
        "id": "view-in-github",
        "colab_type": "text"
      },
      "source": [
        "<a href=\"https://colab.research.google.com/github/Zezo-Elkafoury/Food-Classifier-API-DL/blob/main/Food_Classification.ipynb\" target=\"_parent\"><img src=\"https://colab.research.google.com/assets/colab-badge.svg\" alt=\"Open In Colab\"/></a>"
      ]
    },
    {
      "cell_type": "code",
      "source": [
        "!pip install datasets"
      ],
      "metadata": {
        "id": "OhnFOL6gwZCh"
      },
      "execution_count": null,
      "outputs": []
    },
    {
      "cell_type": "code",
      "execution_count": null,
      "metadata": {
        "id": "Q94bSE8MoFG0"
      },
      "outputs": [],
      "source": [
        "from datasets import load_dataset"
      ]
    },
    {
      "cell_type": "markdown",
      "source": [
        "# Loading Data"
      ],
      "metadata": {
        "id": "N9wmYgwcury1"
      }
    },
    {
      "cell_type": "code",
      "source": [
        "data=load_dataset('food101',split='train[:5000]')"
      ],
      "metadata": {
        "id": "M-n_VQURuqWX"
      },
      "execution_count": null,
      "outputs": []
    },
    {
      "cell_type": "markdown",
      "source": [
        "### Inspecting the data"
      ],
      "metadata": {
        "id": "BKU0E7nRv3GW"
      }
    },
    {
      "cell_type": "code",
      "source": [
        "data"
      ],
      "metadata": {
        "id": "NAIZgCRfu3Dm"
      },
      "execution_count": null,
      "outputs": []
    },
    {
      "cell_type": "markdown",
      "source": [
        "## Splitting Data"
      ],
      "metadata": {
        "id": "GH5GqnF3ylJS"
      }
    },
    {
      "cell_type": "code",
      "source": [
        "data=data.train_test_split(test_size=0.2)"
      ],
      "metadata": {
        "id": "4a1T6fmSyj0G"
      },
      "execution_count": null,
      "outputs": []
    },
    {
      "cell_type": "code",
      "source": [
        "data"
      ],
      "metadata": {
        "id": "gpzxi4AGy03B"
      },
      "execution_count": null,
      "outputs": []
    },
    {
      "cell_type": "code",
      "source": [
        "data['train'][0]['image']"
      ],
      "metadata": {
        "id": "lNX3dB0DwLre"
      },
      "execution_count": null,
      "outputs": []
    },
    {
      "cell_type": "markdown",
      "source": [
        "## Mapping Labels"
      ],
      "metadata": {
        "id": "Bykj_-JCyhCg"
      }
    },
    {
      "cell_type": "code",
      "source": [
        "labels=data['train'].features['label'].names\n",
        "label2id,id2label={},{}\n",
        "for i, label in enumerate(labels):\n",
        "    label2id[label]=i\n",
        "    id2label[i]=label"
      ],
      "metadata": {
        "id": "cwqqoCxzyizg"
      },
      "execution_count": null,
      "outputs": []
    },
    {
      "cell_type": "code",
      "source": [
        "id2label"
      ],
      "metadata": {
        "id": "E-a23am2zb_D"
      },
      "execution_count": null,
      "outputs": []
    },
    {
      "cell_type": "code",
      "source": [
        "label2id"
      ],
      "metadata": {
        "id": "CrRMWlP9zb89"
      },
      "execution_count": null,
      "outputs": []
    },
    {
      "cell_type": "markdown",
      "source": [
        "# Preprocessing Images"
      ],
      "metadata": {
        "id": "dyjxTBOH0Cr9"
      }
    },
    {
      "cell_type": "code",
      "source": [
        "! pip install --upgrade transformers"
      ],
      "metadata": {
        "id": "ivmI2yWK0fVG"
      },
      "execution_count": null,
      "outputs": []
    },
    {
      "cell_type": "code",
      "source": [
        "from transformers import AutoImageProcessor"
      ],
      "metadata": {
        "id": "Rrt2X3tS0FSW"
      },
      "execution_count": null,
      "outputs": []
    },
    {
      "cell_type": "code",
      "source": [
        "processor=AutoImageProcessor.from_pretrained('google/vit-base-patch16-224') #importing the processing needed for the model"
      ],
      "metadata": {
        "id": "SElxHFAI1WZI"
      },
      "execution_count": null,
      "outputs": []
    },
    {
      "cell_type": "markdown",
      "source": [
        "Getting image dimensions for the pretrained model"
      ],
      "metadata": {
        "id": "heFpTzJo1e_F"
      }
    },
    {
      "cell_type": "code",
      "source": [
        "size=(processor.size['height'],processor.size['width'])\n",
        "size"
      ],
      "metadata": {
        "id": "R_K7pKk01wzv"
      },
      "execution_count": null,
      "outputs": []
    },
    {
      "cell_type": "code",
      "source": [
        "!pip install torchvision"
      ],
      "metadata": {
        "id": "dtha1X5Zuj-f"
      },
      "execution_count": null,
      "outputs": []
    },
    {
      "cell_type": "code",
      "source": [
        "from torchvision.transforms import RandomResizedCrop, Compose, Normalize, ToTensor\n",
        "transform=Compose([\n",
        "    RandomResizedCrop(size),\n",
        "    ToTensor(),\n",
        "    Normalize(mean=processor.image_mean,std=processor.image_std)\n",
        "])"
      ],
      "metadata": {
        "id": "rLL14pXq1yvt"
      },
      "execution_count": null,
      "outputs": []
    },
    {
      "cell_type": "code",
      "source": [
        "def proccess_images(samples):\n",
        "  samples['pixel_values']=[transform(img.convert('RGB')) for img in samples['image'] ]\n",
        "  del samples['image']\n",
        "  return samples"
      ],
      "metadata": {
        "id": "oHZWZhUPuU9Q"
      },
      "execution_count": null,
      "outputs": []
    },
    {
      "cell_type": "code",
      "source": [
        "data_final=data.with_transform(proccess_images) # applying transformation on the data"
      ],
      "metadata": {
        "id": "25WwH40V1E9h"
      },
      "execution_count": null,
      "outputs": []
    },
    {
      "cell_type": "markdown",
      "source": [
        "# Model Training"
      ],
      "metadata": {
        "id": "jKMQ5ceF1y4l"
      }
    },
    {
      "cell_type": "code",
      "source": [
        "from transformers import AutoModelForImageClassification, Trainer, TrainingArguments\n",
        "model= AutoModelForImageClassification.from_pretrained('google/vit-base-patch16-224',\n",
        "                                                            num_labels=len(labels),\n",
        "                                                            id2label=id2label,\n",
        "                                                            label2id=label2id,\n",
        "                                                            ignore_mismatched_sizes=True)"
      ],
      "metadata": {
        "id": "K_8eNVIn1-x5"
      },
      "execution_count": null,
      "outputs": []
    },
    {
      "cell_type": "code",
      "source": [
        "from transformers import DefaultDataCollator\n",
        "data_collator=DefaultDataCollator()"
      ],
      "metadata": {
        "id": "_vQHQKx02ZlM"
      },
      "execution_count": null,
      "outputs": []
    },
    {
      "cell_type": "code",
      "source": [
        "!pip install evaluate"
      ],
      "metadata": {
        "id": "n_YiW3K45SY7"
      },
      "execution_count": null,
      "outputs": []
    },
    {
      "cell_type": "code",
      "source": [
        "import evaluate\n",
        "import numpy as np\n",
        "metric=evaluate.load('accuracy')\n",
        "def compute_metrices(predictions_and_labels):\n",
        "  predictions,labels=predictions_and_labels\n",
        "  predictions=np.argmax(predictions,axis=1)\n",
        "  return metric.compute(predictions=predictions,references=labels)"
      ],
      "metadata": {
        "id": "FlRIUKIf5LFM"
      },
      "execution_count": null,
      "outputs": []
    },
    {
      "cell_type": "code",
      "source": [
        "from huggingface_hub import notebook_login\n",
        "\n",
        "notebook_login()"
      ],
      "metadata": {
        "id": "D6BuRB-0h6AQ"
      },
      "execution_count": null,
      "outputs": []
    },
    {
      "cell_type": "code",
      "source": [
        "training_args=TrainingArguments(\n",
        "    output_dir='./food_model',\n",
        "    run_name='food_classification_experiment',\n",
        "    per_device_train_batch_size=16,\n",
        "    per_device_eval_batch_size=16,\n",
        "    eval_strategy='epoch',\n",
        "    save_strategy='epoch',\n",
        "    num_train_epochs=10,\n",
        "    metric_for_best_model='accuracy',\n",
        "    weight_decay=0.01,\n",
        "    logging_steps=10,\n",
        "    save_total_limit=2,\n",
        "    push_to_hub=True, # To publish the model on huggingface\n",
        "    remove_unused_columns=False,\n",
        "    load_best_model_at_end=True\n",
        ")"
      ],
      "metadata": {
        "id": "Z18w0tml6eiA"
      },
      "execution_count": null,
      "outputs": []
    },
    {
      "cell_type": "code",
      "source": [
        "trainer=Trainer(\n",
        "    model=model,\n",
        "    args=training_args,\n",
        "    data_collator=data_collator,\n",
        "    train_dataset=data_final['train'],\n",
        "    eval_dataset=data_final['test'],\n",
        "    processing_class=processor,\n",
        "    compute_metrics=compute_metrices,\n",
        ")"
      ],
      "metadata": {
        "id": "gQfOvHsZ60ae"
      },
      "execution_count": null,
      "outputs": []
    },
    {
      "cell_type": "code",
      "source": [
        "trainer.train()"
      ],
      "metadata": {
        "id": "5Y5SSwQh7e6r"
      },
      "execution_count": null,
      "outputs": []
    },
    {
      "cell_type": "code",
      "source": [
        "import matplotlib.pyplot as plt\n",
        "\n",
        "# Initialize lists\n",
        "train_loss = []\n",
        "train_steps = []\n",
        "\n",
        "eval_loss = []\n",
        "eval_accuracy = []\n",
        "eval_steps = []\n",
        "\n",
        "# Extract values\n",
        "for log in trainer.state.log_history:\n",
        "    if 'loss' in log and 'step' in log:\n",
        "        train_loss.append(log['loss'])\n",
        "        train_steps.append(log['step'])\n",
        "    if 'eval_loss' in log:\n",
        "        eval_loss.append(log['eval_loss'])\n",
        "        eval_accuracy.append(log['eval_accuracy'])\n",
        "        eval_steps.append(log['step'])\n",
        "\n",
        "\n",
        "plt.figure(figsize=(12, 5))\n",
        "\n",
        "# Loss plot\n",
        "plt.subplot(1, 2, 1)\n",
        "plt.plot(train_steps, train_loss, label='Training Loss', color='blue')\n",
        "plt.plot(eval_steps, eval_loss, label='Validation Loss', color='red')\n",
        "plt.xlabel('Steps')\n",
        "plt.ylabel('Loss')\n",
        "plt.title('Training and Validation Loss')\n",
        "plt.legend()\n",
        "\n",
        "# Accuracy plot\n",
        "plt.subplot(1, 2, 2)\n",
        "plt.plot(eval_steps, eval_accuracy, label='Validation Accuracy', color='green')\n",
        "plt.xlabel('Steps')\n",
        "plt.ylabel('Accuracy')\n",
        "plt.title('Validation Accuracy')\n",
        "plt.legend()\n",
        "\n",
        "plt.tight_layout()\n",
        "plt.show()\n"
      ],
      "metadata": {
        "id": "ncoKL5DkPzGg"
      },
      "execution_count": null,
      "outputs": []
    },
    {
      "cell_type": "markdown",
      "source": [
        "# Inference System and API"
      ],
      "metadata": {
        "id": "4pfqwtJMr0jv"
      }
    },
    {
      "cell_type": "code",
      "source": [
        "!pip install FastAPI\n",
        "!pip install uvicorn\n",
        "!pip install python-multipart\n",
        "!pip install aiofiles"
      ],
      "metadata": {
        "id": "5lsJBC--uTML"
      },
      "execution_count": null,
      "outputs": []
    },
    {
      "cell_type": "code",
      "source": [
        "from fastapi import FastAPI, File, UploadFile\n",
        "from typing import List\n",
        "from PIL import Image\n",
        "import torch\n",
        "from transformers import AutoImageProcessor, AutoModelForImageClassification\n",
        "import io\n",
        "\n",
        "app = FastAPI()\n",
        "\n",
        "# Load the pre-trained processor and model\n",
        "processor = AutoImageProcessor.from_pretrained(\"ZiadElkafoury/food_model\")\n",
        "model = AutoModelForImageClassification.from_pretrained(\"ZiadElkafoury/food_model\")\n",
        "\n",
        "\n",
        "@app.post(\"/predict\")\n",
        "async def predict(file: UploadFile = File(...)):\n",
        "    \"\"\"\n",
        "    Predicts the food item in an uploaded image.\n",
        "\n",
        "    Args:\n",
        "        file (UploadFile): The image file to be processed.\n",
        "\n",
        "    Returns:\n",
        "        dict: A dictionary containing the predicted label.\n",
        "    \"\"\"\n",
        "    try:\n",
        "        # Read the image file\n",
        "        contents = await file.read()\n",
        "        image = Image.open(io.BytesIO(contents)).convert(\"RGB\")\n",
        "\n",
        "        # Preprocess the image\n",
        "        inputs = processor(images=image, return_tensors=\"pt\")\n",
        "\n",
        "        # Make the prediction\n",
        "        with torch.no_grad():\n",
        "            outputs = model(**inputs)\n",
        "\n",
        "        # Get the predicted label\n",
        "        predicted_label_id = outputs.logits.argmax(-1).item()\n",
        "        predicted_label = model.config.id2label[predicted_label_id]\n",
        "\n",
        "        # Return the prediction\n",
        "        return {\"predicted_label\": predicted_label}\n",
        "\n",
        "    except Exception as e:\n",
        "        return {\"error\": str(e)}"
      ],
      "metadata": {
        "id": "qr7ZmqFIr8Cv"
      },
      "execution_count": null,
      "outputs": []
    }
  ]
}